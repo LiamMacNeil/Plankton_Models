{
 "cells": [
  {
   "cell_type": "code",
   "execution_count": 8,
   "metadata": {},
   "outputs": [],
   "source": [
    "import tensorflow as tf\n",
    "from tensorflow.tools.compatibility import ipynb"
   ]
  },
  {
   "cell_type": "code",
   "execution_count": 4,
   "metadata": {},
   "outputs": [
    {
     "name": "stdout",
     "output_type": "stream",
     "text": [
      "usage: tf_upgrade_v2 [-h] [--infile INPUT_FILE] [--outfile OUTPUT_FILE]\r\n",
      "                     [--intree INPUT_TREE] [--outtree OUTPUT_TREE]\r\n",
      "                     [--copyotherfiles COPY_OTHER_FILES] [--inplace]\r\n",
      "                     [--no_import_rename] [--no_upgrade_compat_v1_import]\r\n",
      "                     [--reportfile REPORT_FILENAME] [--mode {DEFAULT,SAFETY}]\r\n",
      "                     [--print_all]\r\n",
      "\r\n",
      "Convert a TensorFlow Python file from 1.x to 2.0\r\n",
      "\r\n",
      "Simple usage:\r\n",
      "  tf_upgrade_v2.py --infile foo.py --outfile bar.py\r\n",
      "  tf_upgrade_v2.py --infile foo.ipynb --outfile bar.ipynb\r\n",
      "  tf_upgrade_v2.py --intree ~/code/old --outtree ~/code/new\r\n",
      "\r\n",
      "optional arguments:\r\n",
      "  -h, --help            show this help message and exit\r\n",
      "  --infile INPUT_FILE   If converting a single file, the name of the file to\r\n",
      "                        convert\r\n",
      "  --outfile OUTPUT_FILE\r\n",
      "                        If converting a single file, the output filename.\r\n",
      "  --intree INPUT_TREE   If converting a whole tree of files, the directory to\r\n",
      "                        read from (relative or absolute).\r\n",
      "  --outtree OUTPUT_TREE\r\n",
      "                        If converting a whole tree of files, the output\r\n",
      "                        directory (relative or absolute).\r\n",
      "  --copyotherfiles COPY_OTHER_FILES\r\n",
      "                        If converting a whole tree of files, whether to copy\r\n",
      "                        the other files.\r\n",
      "  --inplace             If converting a set of files, whether to allow the\r\n",
      "                        conversion to be performed on the input files.\r\n",
      "  --no_import_rename    Not to rename import to compat.v2 explicitly.\r\n",
      "  --no_upgrade_compat_v1_import\r\n",
      "                        If specified, don't upgrade explicit imports of\r\n",
      "                        `tensorflow.compat.v1 as tf` to the v2 apis.\r\n",
      "                        Otherwise, explicit imports of the form\r\n",
      "                        `tensorflow.compat.v1 as tf` will be upgraded.\r\n",
      "  --reportfile REPORT_FILENAME\r\n",
      "                        The name of the file where the report log is\r\n",
      "                        stored.(default: report.txt)\r\n",
      "  --mode {DEFAULT,SAFETY}\r\n",
      "                        Upgrade script mode. Supported modes: DEFAULT: Perform\r\n",
      "                        only straightforward conversions to upgrade to 2.0. In\r\n",
      "                        more difficult cases, switch to use compat.v1. SAFETY:\r\n",
      "                        Keep 1.* code intact and import compat.v1 module.\r\n",
      "  --print_all           Print full log to stdout instead of just printing\r\n",
      "                        errors\r\n"
     ]
    }
   ],
   "source": [
    "!tf_upgrade_v2 -h"
   ]
  },
  {
   "cell_type": "code",
   "execution_count": 9,
   "metadata": {},
   "outputs": [
    {
     "name": "stdout",
     "output_type": "stream",
     "text": [
      "Traceback (most recent call last):\r\n",
      "  File \"/Users/liammacneil/opt/anaconda3/bin/tf_upgrade_v2\", line 8, in <module>\r\n",
      "    sys.exit(main())\r\n",
      "  File \"/Users/liammacneil/opt/anaconda3/lib/python3.7/site-packages/tensorflow/tools/compatibility/tf_upgrade_v2_main.py\", line 165, in main\r\n",
      "    args.input_file, output_file, upgrade)\r\n",
      "  File \"/Users/liammacneil/opt/anaconda3/lib/python3.7/site-packages/tensorflow/tools/compatibility/tf_upgrade_v2_main.py\", line 53, in process_file\r\n",
      "    \"Currently converter only supports python or ipynb\")\r\n",
      "NotImplementedError: Currently converter only supports python or ipynb\r\n"
     ]
    }
   ],
   "source": [
    "!tf_upgrade_v2 \\\n",
    "  --infile check_past_two.py/ \\\n",
    "  --outfile check_past_two_v2.py/ \\\n",
    "  --reportfile report.txtup"
   ]
  },
  {
   "cell_type": "code",
   "execution_count": null,
   "metadata": {},
   "outputs": [],
   "source": []
  }
 ],
 "metadata": {
  "kernelspec": {
   "display_name": "Python 3",
   "language": "python",
   "name": "python3"
  },
  "language_info": {
   "codemirror_mode": {
    "name": "ipython",
    "version": 3
   },
   "file_extension": ".py",
   "mimetype": "text/x-python",
   "name": "python",
   "nbconvert_exporter": "python",
   "pygments_lexer": "ipython3",
   "version": "3.7.4"
  }
 },
 "nbformat": 4,
 "nbformat_minor": 2
}
